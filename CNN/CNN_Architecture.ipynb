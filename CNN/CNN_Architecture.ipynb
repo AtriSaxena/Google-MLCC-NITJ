{
 "cells": [
  {
   "cell_type": "markdown",
   "metadata": {},
   "source": [
    "## CNN Architecture\n",
    "\n",
    "- AlexNet\n",
    "- VGG\n",
    "- GoogLeNet\n",
    "- ResNet\n",
    "\n",
    "Also,\n",
    "\n",
    "- NiN (Network in Network)\n",
    "- Wide ResNet\n",
    "- ResNeXT\n",
    "- Stochastic Depth\n",
    "- DenseNet\n",
    "- FractalNet\n",
    "- SqueezeNet"
   ]
  },
  {
   "cell_type": "markdown",
   "metadata": {},
   "source": [
    "### AlexNet\n",
    "\n",
    "![](https://i.imgur.com/HL9FooG.png)\n",
    "\n",
    "First layer: 96 11x11 filters applied at stride 4\n",
    "\n",
    "Output Volume:  (227-11)/4+1 = 55\n",
    "\n",
    "Parameters: (11*11*3)*96 = 35K\n",
    "\n",
    "Second layer: 3x3 filters applied at stride 2\n",
    "\n",
    "Output Volume: (55-3)/2+1 = 27 = (27x27x96)\n",
    "\n",
    "- first use of ReLU\n",
    "- heavy data augmentation\n",
    "- dropout 0.5\n",
    "- batch size 128\n",
    "- SGD Momentum 0.9\n",
    "- Learning rate 1e-2\n"
   ]
  },
  {
   "cell_type": "markdown",
   "metadata": {},
   "source": [
    "### VGGnet\n",
    "\n",
    "![](https://i.imgur.com/KdVaCJi.png?1)\n",
    "\n",
    "https://gist.github.com/baraldilorenzo/8d096f48a1be4a2d660d"
   ]
  },
  {
   "cell_type": "markdown",
   "metadata": {},
   "source": [
    "## Kernels\n",
    "\n",
    "http://setosa.io/ev/image-kernels/"
   ]
  }
 ],
 "metadata": {
  "kernelspec": {
   "display_name": "Python 3",
   "language": "python",
   "name": "python3"
  },
  "language_info": {
   "codemirror_mode": {
    "name": "ipython",
    "version": 3
   },
   "file_extension": ".py",
   "mimetype": "text/x-python",
   "name": "python",
   "nbconvert_exporter": "python",
   "pygments_lexer": "ipython3",
   "version": "3.6.5"
  }
 },
 "nbformat": 4,
 "nbformat_minor": 2
}
