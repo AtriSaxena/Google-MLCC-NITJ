{
 "cells": [
  {
   "cell_type": "markdown",
   "metadata": {},
   "source": [
    "## Kaggle Competition\n",
    "\n",
    "### Plant Seedlings Classification\n",
    "\n",
    "https://www.kaggle.com/c/plant-seedlings-classification\n",
    "\n",
    "#### Classes\n",
    "\n",
    "Black-grass<br>\n",
    "Charlock<br>\n",
    "Cleavers<br>\n",
    "Common Chickweed<br>\n",
    "Common wheat<br>\n",
    "Fat Hen<br>\n",
    "Loose Silky-bent<br>\n",
    "Maize<br>\n",
    "Scentless Mayweed<br>\n",
    "Shepherds Purse<br>\n",
    "Small-flowered Cranesbill<br>\n",
    "Sugar beet<br>"
   ]
  },
  {
   "cell_type": "markdown",
   "metadata": {},
   "source": [
    "https://www.kaggle.com/atrisaxena/keras-plant-seedlings-vgg19-augmentation"
   ]
  }
 ],
 "metadata": {
  "kernelspec": {
   "display_name": "Python 3",
   "language": "python",
   "name": "python3"
  },
  "language_info": {
   "codemirror_mode": {
    "name": "ipython",
    "version": 3
   },
   "file_extension": ".py",
   "mimetype": "text/x-python",
   "name": "python",
   "nbconvert_exporter": "python",
   "pygments_lexer": "ipython3",
   "version": "3.6.5"
  }
 },
 "nbformat": 4,
 "nbformat_minor": 2
}
